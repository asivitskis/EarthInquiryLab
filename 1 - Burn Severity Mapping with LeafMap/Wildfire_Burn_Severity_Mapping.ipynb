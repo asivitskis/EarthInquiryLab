{
 "cells": [
  {
   "cell_type": "markdown",
   "id": "c84f0193",
   "metadata": {},
   "source": [
    "# 🔥 Mapping Wildfire Burn Severity with LeafMap & Python\n",
    "\n",
    "Welcome to this hands-on mapping activity! In this notebook, you'll explore satellite imagery, calculate wildfire burn severity, and create your own interactive web map using open-source geospatial tools.\n",
    "\n",
    "[![Open In Colab](https://colab.research.google.com/assets/colab-badge.svg)](https://colab.research.google.com/github/asivitskis/EarthInquiryLab/blob/main/1%20-%20Burn%20Severity%20Mapping%20with%20LeafMap/Wildfire_Burn_Severity_Mapping.ipynb)\n",
    "\n",
    "[![Binder](https://mybinder.org/badge_logo.svg)](https://mybinder.org/v2/gh/asivitskis/EarthInquiryLab/main?filepath=1%20-%20Burn%20Severity%20Mapping%20with%20LeafMap%2FWildfire_Burn_Severity_Mapping.ipynb)\n",
    "\n",
    "\n",
    "## Learning Goals\n",
    "\n",
    "By the end of this notebook, you will be able to:\n",
    "- Understand and calculate the Normalized Burn Ratio (dNBR)\n",
    "- Visualize burn severity using satellite imagery\n",
    "- Interpret changes in vegetation using NIR/SWIR bands\n",
    "- Use interactive maps to explore geographic data"
   ]
  },
  {
   "cell_type": "markdown",
   "id": "a0902a0d",
   "metadata": {},
   "source": [
    "## 🧰 1. Setup: Install and Import Packages"
   ]
  },
  {
   "cell_type": "code",
   "execution_count": null,
   "id": "464d54a6",
   "metadata": {},
   "outputs": [],
   "source": [
    "# If running in Colab, uncomment these:\n",
    "# !pip install leafmap rasterio geopandas rioxarray localtileserver\n",
    "\n",
    "import leafmap\n",
    "import rasterio\n",
    "import numpy as np\n",
    "import matplotlib.pyplot as plt\n",
    "from rasterio.plot import show\n",
    "import rioxarray\n",
    "import xarray as xr"
   ]
  },
  {
   "cell_type": "markdown",
   "id": "1be3ad5e",
   "metadata": {},
   "source": [
    "## 🗺️ 2. Load and Visualize Satellite Imagery\n",
    "\n",
    "We've prepared pre- and post-fire Landsat imagery for you. These files are hosted online for easy access."
   ]
  },
  {
   "cell_type": "code",
   "execution_count": null,
   "id": "d590e759",
   "metadata": {},
   "outputs": [],
   "source": [
    "# Image Paths\n",
    "prefire_path = \"https://github.com/asivitskis/EarthInquiryLab/raw/refs/heads/main/data/prefire_LC08_038030_20230925_utm13n.tif\"\n",
    "postfire_path = \"https://github.com/asivitskis/EarthInquiryLab/raw/refs/heads/main/data/postfire_LC08_038030_20241013_utm13n.tif\"\n",
    "\n",
    "# Load the images\n",
    "prefire = rasterio.open(prefire_path)\n",
    "postfire = rasterio.open(postfire_path)\n",
    "\n",
    "# Visualize\n",
    "fig, (ax1, ax2) = plt.subplots(1, 2, figsize=(12, 6))\n",
    "show(prefire.read(4), ax=ax1, title=\"Prefire (NIR)\")\n",
    "show(postfire.read(4), ax=ax2, title=\"Postfire (NIR)\")\n",
    "plt.show()"
   ]
  },
  {
   "cell_type": "markdown",
   "id": "bd6cc951",
   "metadata": {},
   "source": [
    "## 🔬 3. Calculate Burn Severity (dNBR)"
   ]
  },
  {
   "cell_type": "code",
   "execution_count": null,
   "id": "3406504d",
   "metadata": {},
   "outputs": [],
   "source": [
    "# Read and convert to float for division\n",
    "nir_pre = prefire.read(5).astype('float32')    # SR_B5 (NIR)\n",
    "swir_pre = prefire.read(7).astype('float32')   # SR_B7 (SWIR2)\n",
    "\n",
    "nir_post = postfire.read(5).astype('float32')\n",
    "swir_post = postfire.read(7).astype('float32')\n",
    "\n",
    "# Avoid divide-by-zero by setting invalid denominators to NaN\n",
    "nbr_pre = (nir_pre - swir_pre) / (nir_pre + swir_pre)\n",
    "nbr_pre[np.isinf(nbr_pre)] = np.nan\n",
    "\n",
    "nbr_post = (nir_post - swir_post) / (nir_post + swir_post)\n",
    "nbr_post[np.isinf(nbr_post)] = np.nan\n",
    "\n",
    "# Calculate dNBR\n",
    "dnbr = nbr_pre - nbr_post\n",
    "\n",
    "# Plotting\n",
    "import matplotlib.pyplot as plt\n",
    "\n",
    "dnbr_masked = np.ma.masked_invalid(dnbr)\n",
    "plt.figure(figsize=(10, 6))\n",
    "plt.imshow(dnbr_masked, cmap='RdYlGn_r', vmin=-0.5, vmax=1)\n",
    "plt.colorbar(label='dNBR Burn Severity')\n",
    "plt.title(\"Burn Severity Map (dNBR)\")\n",
    "plt.axis('off')\n",
    "plt.show()\n"
   ]
  },
  {
   "cell_type": "markdown",
   "id": "4129f139",
   "metadata": {},
   "source": [
    "❓ What do you think a high dNBR value indicates?\n",
    "❓ Why do we use NIR and SWIR bands to analyze burn severity?"
   ]
  },
  {
   "cell_type": "markdown",
   "id": "f3d39008",
   "metadata": {},
   "source": [
    "## 🌍 4. Create Your Interactive Map\n",
    "\n",
    "Use LeafMap to create and customize your interactive wildfire map."
   ]
  },
  {
   "cell_type": "code",
   "execution_count": null,
   "id": "5c8c5556",
   "metadata": {},
   "outputs": [],
   "source": [
    "# Ensure we mask invalid values (NaNs) beforehand\n",
    "dnbr = np.ma.masked_invalid(dnbr)\n",
    "\n",
    "# Convert to xarray DataArray with CRS and spatial metadata\n",
    "dnbr_da = xr.DataArray(\n",
    "    dnbr,\n",
    "    dims=(\"y\", \"x\"),\n",
    "    coords={\n",
    "        \"y\": prefire.xy(0, 0)[1] - np.arange(dnbr.shape[0]) * prefire.res[1],\n",
    "        \"x\": prefire.xy(0, 0)[0] + np.arange(dnbr.shape[1]) * prefire.res[0],\n",
    "    },\n",
    "    name=\"dnbr\"\n",
    ")\n",
    "\n",
    "dnbr_da.rio.write_crs(prefire.crs, inplace=True)\n",
    "\n",
    "import ipywidgets as widgets\n",
    "\n",
    "# Create the map and add the raster as before\n",
    "m = leafmap.Map(center=[43.0, -109.0], zoom=8)\n",
    "m.add_raster(\n",
    "    dnbr_da,\n",
    "    colormap='RdYlGn_r',\n",
    "    layer_name='Burn Severity',\n",
    "    vmin=-0.5,\n",
    "    vmax=1,\n",
    "    nodata=np.nan,\n",
    ")\n",
    "\n",
    "m\n"
   ]
  },
  {
   "cell_type": "markdown",
   "id": "63925707",
   "metadata": {},
   "source": [
    "## 🧠 5. Reflection\n",
    "\n",
    "- What do you notice about the areas with high burn severity?\n",
    "- Did you add a personal location to your map? Why did you choose it?\n",
    "- What story does your map tell?"
   ]
  },
  {
   "cell_type": "markdown",
   "id": "6f049038",
   "metadata": {},
   "source": [
    "## 🧭 6. Try It Yourself!\n",
    "\n",
    "Choose one of the following:\n",
    "- Add another layer to your map (elevation, land cover)\n",
    "- Change the marker popup to share a short story\n",
    "- Download your map as HTML or PNG\n",
    "\n",
    "> Bonus: What other local issue could you explore with this tool?\n",
    "\n",
    "🏁 **Great job! You’ve just used real remote sensing data to analyze wildfire impacts and tell a story with maps.**\n"
   ]
  }
 ],
 "metadata": {
  "kernelspec": {
   "display_name": "geo",
   "language": "python",
   "name": "python3"
  },
  "language_info": {
   "codemirror_mode": {
    "name": "ipython",
    "version": 3
   },
   "file_extension": ".py",
   "mimetype": "text/x-python",
   "name": "python",
   "nbconvert_exporter": "python",
   "pygments_lexer": "ipython3",
   "version": "3.11.11"
  }
 },
 "nbformat": 4,
 "nbformat_minor": 5
}
